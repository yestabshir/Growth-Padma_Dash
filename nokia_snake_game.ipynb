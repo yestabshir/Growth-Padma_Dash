{
  "nbformat": 4,
  "nbformat_minor": 0,
  "metadata": {
    "colab": {
      "provenance": [],
      "authorship_tag": "ABX9TyMlwxvFq+ds2V3Pffy0Mkpi",
      "include_colab_link": true
    },
    "kernelspec": {
      "name": "python3",
      "display_name": "Python 3"
    },
    "language_info": {
      "name": "python"
    }
  },
  "cells": [
    {
      "cell_type": "markdown",
      "metadata": {
        "id": "view-in-github",
        "colab_type": "text"
      },
      "source": [
        "<a href=\"https://colab.research.google.com/github/yestabshir/Growth-Padma_Dash/blob/Econ/nokia_snake_game.ipynb\" target=\"_parent\"><img src=\"https://colab.research.google.com/assets/colab-badge.svg\" alt=\"Open In Colab\"/></a>"
      ]
    },
    {
      "cell_type": "code",
      "execution_count": 1,
      "metadata": {
        "colab": {
          "base_uri": "https://localhost:8080/"
        },
        "id": "G9TXuktzaw13",
        "outputId": "0870df2a-a699-4e00-9d35-9896f6d22253"
      },
      "outputs": [
        {
          "output_type": "stream",
          "name": "stdout",
          "text": [
            "Requirement already satisfied: pygame in /usr/local/lib/python3.10/dist-packages (2.6.1)\n"
          ]
        }
      ],
      "source": [
        "pip install pygame\n"
      ]
    },
    {
      "cell_type": "code",
      "source": [
        "import pygame\n",
        "import time\n",
        "import random\n",
        "\n",
        "# Initialize Pygame\n",
        "pygame.init()\n",
        "\n",
        "# Define Colors\n",
        "WHITE = (255, 255, 255)\n",
        "BLACK = (0, 0, 0)\n",
        "RED = (213, 50, 80)\n",
        "GREEN = (0, 255, 0)\n",
        "BLUE = (50, 153, 213)\n",
        "\n",
        "# Define Screen Dimensions\n",
        "WIDTH, HEIGHT = 600, 400\n",
        "screen = pygame.display.set_mode((WIDTH, HEIGHT))\n",
        "\n",
        "# Set the title of the game\n",
        "pygame.display.set_caption('Nokia Snake Game')\n",
        "\n",
        "# Define the clock for controlling the speed of the snake\n",
        "clock = pygame.time.Clock()\n",
        "\n",
        "# Snake block size and speed\n",
        "snake_block = 10\n",
        "snake_speed = 15\n",
        "\n",
        "# Define the font for text display\n",
        "font_style = pygame.font.SysFont(\"bahnschrift\", 25)\n",
        "score_font = pygame.font.SysFont(\"comicsansms\", 35)\n",
        "\n",
        "# Function to display the player's score\n",
        "def display_score(score):\n",
        "    value = score_font.render(\"Score: \" + str(score), True, WHITE)\n",
        "    screen.blit(value, [0, 0])\n",
        "\n",
        "# Function to draw the snake\n",
        "def draw_snake(snake_block, snake_list):\n",
        "    for x in snake_list:\n",
        "        pygame.draw.rect(screen, GREEN, [x[0], x[1], snake_block, snake_block])\n",
        "\n",
        "# Message display function\n",
        "def message(msg, color):\n",
        "    mesg = font_style.render(msg, True, color)\n",
        "    screen.blit(mesg, [WIDTH / 6, HEIGHT / 3])\n",
        "\n",
        "# Game loop\n",
        "def game_loop():\n",
        "    game_over = False\n",
        "    game_close = False\n",
        "\n",
        "    # Initial position of the snake\n",
        "    x = WIDTH / 2\n",
        "    y = HEIGHT / 2\n",
        "\n",
        "    # Change in position\n",
        "    x_change = 0\n",
        "    y_change = 0\n",
        "\n",
        "    # Snake body\n",
        "    snake_list = []\n",
        "    length_of_snake = 1\n",
        "\n",
        "    # Initial position of the food\n",
        "    food_x = round(random.randrange(0, WIDTH - snake_block) / 10.0) * 10.0\n",
        "    food_y = round(random.randrange(0, HEIGHT - snake_block) / 10.0) * 10.0\n",
        "\n",
        "    # Game loop\n",
        "    while not game_over:\n",
        "\n",
        "        while game_close:\n",
        "            screen.fill(BLUE)\n",
        "            message(\"Game Over! Press C-Play Again or Q-Quit\", RED)\n",
        "            display_score(length_of_snake - 1)\n",
        "            pygame.display.update()\n",
        "\n",
        "            for event in pygame.event.get():\n",
        "                if event.type == pygame.KEYDOWN:\n",
        "                    if event.key == pygame.K_q:\n",
        "                        game_over = True\n",
        "                        game_close = False\n",
        "                    if event.key == pygame.K_c:\n",
        "                        game_loop()\n",
        "\n",
        "        for event in pygame.event.get():\n",
        "            if event.type == pygame.QUIT:\n",
        "                game_over = True\n",
        "            if event.type == pygame.KEYDOWN:\n",
        "                if event.key == pygame.K_LEFT:\n",
        "                    x_change = -snake_block\n",
        "                    y_change = 0\n",
        "                elif event.key == pygame.K_RIGHT:\n",
        "                    x_change = snake_block\n",
        "                    y_change = 0\n",
        "                elif event.key == pygame.K_UP:\n",
        "                    y_change = -snake_block\n",
        "                    x_change = 0\n",
        "                elif event.key == pygame.K_DOWN:\n",
        "                    y_change = snake_block\n",
        "                    x_change = 0\n",
        "\n",
        "        # Update snake position\n",
        "        if x >= WIDTH or x < 0 or y >= HEIGHT or y < 0:\n",
        "            game_close = True\n",
        "        x += x_change\n",
        "        y += y_change\n",
        "\n",
        "        screen.fill(BLACK)\n",
        "\n",
        "        # Draw food\n",
        "        pygame.draw.rect(screen, WHITE, [food_x, food_y, snake_block, snake_block])\n",
        "\n",
        "        # Add the new position of the snake's head\n",
        "        snake_head = []\n",
        "        snake_head.append(x)\n",
        "        snake_head.append(y)\n",
        "        snake_list.append(snake_head)\n",
        "\n",
        "        if len(snake_list) > length_of_snake:\n",
        "            del snake_list[0]\n",
        "\n",
        "        # Check if the snake runs into itself\n",
        "        for block in snake_list[:-1]:\n",
        "            if block == snake_head:\n",
        "                game_close = True\n",
        "\n",
        "        # Draw the snake\n",
        "        draw_snake(snake_block, snake_list)\n",
        "\n",
        "        # Display score\n",
        "        display_score(length_of_snake - 1)\n",
        "\n",
        "        pygame.display.update()\n",
        "\n",
        "        # If the snake eats the food\n",
        "        if x == food_x and y == food_y:\n",
        "            food_x = round(random.randrange(0, WIDTH - snake_block) / 10.0) * 10.0\n",
        "            food_y = round(random.randrange(0, HEIGHT - snake_block) / 10.0) * 10.0\n",
        "            length_of_snake += 1\n",
        "\n",
        "        clock.tick(snake_speed)\n",
        "\n",
        "    # Quit the game\n",
        "    pygame.quit()\n",
        "    quit()\n",
        "\n",
        "# Start the game\n",
        "game_loop()\n"
      ],
      "metadata": {
        "colab": {
          "base_uri": "https://localhost:8080/",
          "height": 306
        },
        "id": "4a0ThM14a3bp",
        "outputId": "6a8d01c2-c042-44b3-b952-8e6013a2c5ee"
      },
      "execution_count": 3,
      "outputs": [
        {
          "output_type": "error",
          "ename": "KeyboardInterrupt",
          "evalue": "",
          "traceback": [
            "\u001b[0;31m---------------------------------------------------------------------------\u001b[0m",
            "\u001b[0;31mKeyboardInterrupt\u001b[0m                         Traceback (most recent call last)",
            "\u001b[0;32m<ipython-input-3-dec4423fde9b>\u001b[0m in \u001b[0;36m<cell line: 149>\u001b[0;34m()\u001b[0m\n\u001b[1;32m    147\u001b[0m \u001b[0;34m\u001b[0m\u001b[0m\n\u001b[1;32m    148\u001b[0m \u001b[0;31m# Start the game\u001b[0m\u001b[0;34m\u001b[0m\u001b[0;34m\u001b[0m\u001b[0m\n\u001b[0;32m--> 149\u001b[0;31m \u001b[0mgame_loop\u001b[0m\u001b[0;34m(\u001b[0m\u001b[0;34m)\u001b[0m\u001b[0;34m\u001b[0m\u001b[0;34m\u001b[0m\u001b[0m\n\u001b[0m",
            "\u001b[0;32m<ipython-input-3-dec4423fde9b>\u001b[0m in \u001b[0;36mgame_loop\u001b[0;34m()\u001b[0m\n\u001b[1;32m    140\u001b[0m             \u001b[0mlength_of_snake\u001b[0m \u001b[0;34m+=\u001b[0m \u001b[0;36m1\u001b[0m\u001b[0;34m\u001b[0m\u001b[0;34m\u001b[0m\u001b[0m\n\u001b[1;32m    141\u001b[0m \u001b[0;34m\u001b[0m\u001b[0m\n\u001b[0;32m--> 142\u001b[0;31m         \u001b[0mclock\u001b[0m\u001b[0;34m.\u001b[0m\u001b[0mtick\u001b[0m\u001b[0;34m(\u001b[0m\u001b[0msnake_speed\u001b[0m\u001b[0;34m)\u001b[0m\u001b[0;34m\u001b[0m\u001b[0;34m\u001b[0m\u001b[0m\n\u001b[0m\u001b[1;32m    143\u001b[0m \u001b[0;34m\u001b[0m\u001b[0m\n\u001b[1;32m    144\u001b[0m     \u001b[0;31m# Quit the game\u001b[0m\u001b[0;34m\u001b[0m\u001b[0;34m\u001b[0m\u001b[0m\n",
            "\u001b[0;31mKeyboardInterrupt\u001b[0m: "
          ]
        }
      ]
    }
  ]
}