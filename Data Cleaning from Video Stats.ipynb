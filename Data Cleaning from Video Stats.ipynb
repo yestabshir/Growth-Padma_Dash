{
 "cells": [
  {
   "cell_type": "code",
   "execution_count": 1,
   "id": "e70a4f68-5cca-4cb0-815f-2d8a76c031dd",
   "metadata": {},
   "outputs": [],
   "source": [
    "import pandas as pd"
   ]
  },
  {
   "cell_type": "markdown",
   "id": "5b67091d-4d98-43ed-a436-02e92c894c8f",
   "metadata": {
    "tags": []
   },
   "source": [
    "##### Load data"
   ]
  },
  {
   "cell_type": "code",
   "execution_count": 11,
   "id": "89c9329f-6fa2-41cf-93d3-367577c0d5cf",
   "metadata": {
    "tags": []
   },
   "outputs": [
    {
     "name": "stdout",
     "output_type": "stream",
     "text": [
      "     Week num  Contact ID\n",
      "0           3     3817301\n",
      "1           3     3834101\n",
      "2           3     3834101\n",
      "3           3     3834101\n",
      "4           3     3834101\n",
      "..        ...         ...\n",
      "823        38     9894401\n",
      "824        38     9894401\n",
      "825        39    10526551\n",
      "826        39    10526551\n",
      "827        39    10526551\n",
      "\n",
      "[828 rows x 2 columns]\n"
     ]
    }
   ],
   "source": [
    "ab = pd.read_excel(r'C:\\Users\\yesta\\OneDrive\\Documents\\Datas Office\\Growth\\Unstructured Data HS\\Book2.xlsx')\n",
    "print(ab)"
   ]
  },
  {
   "cell_type": "markdown",
   "id": "3c09384b-e065-4475-a3b7-8c2ac4b6a73d",
   "metadata": {
    "tags": []
   },
   "source": [
    "#### Basic Scatter Plotto find an outlier"
   ]
  },
  {
   "cell_type": "code",
   "execution_count": 13,
   "id": "1af643fd-4b97-4658-9333-78dd4e166f37",
   "metadata": {},
   "outputs": [
    {
     "data": {
      "text/plain": [
       "<AxesSubplot:xlabel='Week num', ylabel='Contact ID'>"
      ]
     },
     "execution_count": 13,
     "metadata": {},
     "output_type": "execute_result"
    },
    {
     "data": {
      "image/png": "[encoded data removed]",
      "text/plain": [
       "<Figure size 432x288 with 1 Axes>"
      ]
     },
     "metadata": {
      "needs_background": "light"
     },
     "output_type": "display_data"
    }
   ],
   "source": [
    "ab.plot.scatter(x='Week num', y='Contact ID')"
   ]
  },
  {
   "cell_type": "code",
   "execution_count": null,
   "id": "f959344b-6360-460b-8391-122eecdd649c",
   "metadata": {},
   "outputs": [],
   "source": []
  }
 ],
 "metadata": {
  "kernelspec": {
   "display_name": "Python 3 (ipykernel)",
   "language": "python",
   "name": "python3"
  },
  "language_info": {
   "codemirror_mode": {
    "name": "ipython",
    "version": 3
   },
   "file_extension": ".py",
   "mimetype": "text/x-python",
   "name": "python",
   "nbconvert_exporter": "python",
   "pygments_lexer": "ipython3",
   "version": "3.9.12"
  }
 },
 "nbformat": 4,
 "nbformat_minor": 5
}
